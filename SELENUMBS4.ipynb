{
 "cells": [
  {
   "cell_type": "code",
   "execution_count": 63,
   "id": "33a7185b",
   "metadata": {},
   "outputs": [],
   "source": [
    "import time\n",
    "from selenium import webdriver\n",
    "from bs4 import BeautifulSoup\n",
    "import pandas as pd\n",
    "from selenium.webdriver.support.ui import WebDriverWait\n",
    "from selenium.webdriver.support import expected_conditions as EC\n",
    "from selenium.webdriver.common.by import By\n"
   ]
  },
  {
   "cell_type": "code",
   "execution_count": 73,
   "id": "4e65c742",
   "metadata": {},
   "outputs": [
    {
     "name": "stdout",
     "output_type": "stream",
     "text": [
      "                                          Product Name     Price\n",
      "0    ASUS 11.6\" HD Intel Celeron N4020 4GB RAM 64GB...  10995.00\n",
      "1    HUAWEI MateBook D 15 2021 Laptop | Intel® Core...  24999.00\n",
      "2    Dell Laptop PC E7470 Brand New Laptop Original...  17960.94\n",
      "3    Asus 14\" Celeron N4500 4GB/128GB eMMC Star Bla...  14495.00\n",
      "4    Apple 13-inch MacBook Air: Apple M1 chip with ...  49990.00\n",
      "..                                                 ...       ...\n",
      "155  【New Arrival】DERE VBook V10 Laptop 360°Flip-an...  11499.00\n",
      "156  HP 15S-EQ3068AU (Natural Silver) Laptop - 15.6...  39995.00\n",
      "157  Dell Laptop E6420 Storage Intel Core i3 2nd i5...  10906.00\n",
      "158  Asus Zenbook 14 2022 Model R7-5825U OLED 512 P...  56175.00\n",
      "159  Asus ROG Strix G15 G513 2022 Model Gaming Lapt...  82950.00\n",
      "\n",
      "[160 rows x 2 columns]\n"
     ]
    }
   ],
   "source": [
    "class Scrapprrlazada():\n",
    "    #pass\n",
    "    website = 'https://www.lazada.com.ph/tag/laptop/?spm=a2o4l.home.search.2.239e2030B1Z5yU&q=laptop&_keyori=ss&from=search_history&sugg=laptop_1_1&catalog_redirect_tag=true'\n",
    "    driver = webdriver.Chrome()\n",
    "    driver.get(website)\n",
    "    \n",
    "    product = []    \n",
    "    for i in range(4):\n",
    "        WebDriverWait(driver, 5).until(EC.presence_of_element_located((By.CSS_SELECTOR, \"#root\")))\n",
    "        time.sleep(2)\n",
    "    \n",
    "    \n",
    "        soup = BeautifulSoup(driver.page_source,\"html.parser\")\n",
    "\n",
    "        for item in soup.findAll('div',class_ = 'Bm3ON'):\n",
    "            product_name = item.find('div',class_='RfADt').text\n",
    "            price = float(item.find('span',class_='ooOxS').text.replace('₱','').replace(',',''))\n",
    "            product.append((product_name,price))\n",
    "        \n",
    "    ##print(product)\n",
    "    ##driver.close()\n",
    "    \n",
    "        time.sleep(2)\n",
    "        driver.find_element(By.CSS_SELECTOR, \".ant-pagination-next > button\").click()\n",
    "        time.sleep(3)\n",
    "    \n",
    "    df = pd.DataFrame(product, columns=['Product Name','Price'])\n",
    "    \n",
    "    print(df)\n",
    "    \n",
    "    df.to_excel('21laxada selenium bs4.xlsx',index=False)\n",
    "\n",
    "    \n",
    "    "
   ]
  },
  {
   "cell_type": "code",
   "execution_count": 64,
   "id": "ce944042",
   "metadata": {},
   "outputs": [],
   "source": [
    "sl = Scrapprrlazada()"
   ]
  },
  {
   "cell_type": "code",
   "execution_count": 61,
   "id": "82f4d4ee",
   "metadata": {},
   "outputs": [
    {
     "ename": "AttributeError",
     "evalue": "'Scrapprrlazada' object has no attribute 'scrape'",
     "output_type": "error",
     "traceback": [
      "\u001b[1;31m---------------------------------------------------------------------------\u001b[0m",
      "\u001b[1;31mAttributeError\u001b[0m                            Traceback (most recent call last)",
      "\u001b[1;32m~\\AppData\\Local\\Temp\\ipykernel_18008\\666998466.py\u001b[0m in \u001b[0;36m<module>\u001b[1;34m\u001b[0m\n\u001b[1;32m----> 1\u001b[1;33m \u001b[0msl\u001b[0m\u001b[1;33m.\u001b[0m\u001b[0mscrape\u001b[0m\u001b[1;33m(\u001b[0m\u001b[1;33m)\u001b[0m\u001b[1;33m\u001b[0m\u001b[1;33m\u001b[0m\u001b[0m\n\u001b[0m",
      "\u001b[1;31mAttributeError\u001b[0m: 'Scrapprrlazada' object has no attribute 'scrape'"
     ]
    }
   ],
   "source": [
    "#sl.scrape()"
   ]
  },
  {
   "cell_type": "raw",
   "id": "c3aa353e",
   "metadata": {},
   "source": []
  }
 ],
 "metadata": {
  "kernelspec": {
   "display_name": "Python 3 (ipykernel)",
   "language": "python",
   "name": "python3"
  },
  "language_info": {
   "codemirror_mode": {
    "name": "ipython",
    "version": 3
   },
   "file_extension": ".py",
   "mimetype": "text/x-python",
   "name": "python",
   "nbconvert_exporter": "python",
   "pygments_lexer": "ipython3",
   "version": "3.9.13"
  }
 },
 "nbformat": 4,
 "nbformat_minor": 5
}
