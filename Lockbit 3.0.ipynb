{
 "cells": [
  {
   "cell_type": "code",
   "execution_count": 1,
   "id": "b6b729dc",
   "metadata": {},
   "outputs": [
    {
     "name": "stderr",
     "output_type": "stream",
     "text": [
      "C:\\Users\\calgo\\AppData\\Local\\Temp\\ipykernel_22804\\2196158379.py:7: DeprecationWarning: firefox_profile has been deprecated, please use an Options object\n",
      "  profile = webdriver.FirefoxProfile()\n",
      "C:\\Users\\calgo\\AppData\\Local\\Temp\\ipykernel_22804\\2196158379.py:13: DeprecationWarning: executable_path has been deprecated, please pass in a Service object\n",
      "  driver = webdriver.Firefox(firefox_profile=profile, executable_path='/path/to/geckodriver')\n",
      "C:\\Users\\calgo\\AppData\\Local\\Temp\\ipykernel_22804\\2196158379.py:13: DeprecationWarning: firefox_profile has been deprecated, please pass in an Options object\n",
      "  driver = webdriver.Firefox(firefox_profile=profile, executable_path='/path/to/geckodriver')\n"
     ]
    },
    {
     "name": "stdout",
     "output_type": "stream",
     "text": [
      "            Company Names                                      Download Data  \\\n",
      "0            2easy.com.br  http://lockbit7z6f3gu6rjvrysn5gjbsqj3hk3bvsg64...   \n",
      "1        7generations.org  http://lockbit7z6f3gu6rjvrysn5gjbsqj3hk3bvsg64...   \n",
      "2               a-r-s.com  http://lockbit7z6f3gu6rjvrysn5gjbsqj3hk3bvsg64...   \n",
      "3             abcp.org.br  http://lockbit7z6f3gu6rjvrysn5gjbsqj3hk3bvsg64...   \n",
      "4                abiom.nl  http://lockbit7z6f3gu6rjvrysn5gjbsqj3hk3bvsg64...   \n",
      "..                    ...                                                ...   \n",
      "704  zentrumdreilinden.ch  http://lockbit7z6f3gu6rjvrysn5gjbsqj3hk3bvsg64...   \n",
      "705              zgoda.ad  http://lockbit7z6f3gu6rjvrysn5gjbsqj3hk3bvsg64...   \n",
      "706             zgoda.net  http://lockbit7z6f3gu6rjvrysn5gjbsqj3hk3bvsg64...   \n",
      "707         zhulian.co.th  http://lockbit7z6f3gu6rjvrysn5gjbsqj3hk3bvsg64...   \n",
      "708       zine-eskola.eus  http://lockbit7z6f3gu6rjvrysn5gjbsqj3hk3bvsg64...   \n",
      "\n",
      "     DLS website                                           DLS link  \n",
      "0    Lockbit 3.0  http://lockbit7z6f3gu6rjvrysn5gjbsqj3hk3bvsg64...  \n",
      "1    Lockbit 3.0  http://lockbit7z6f3gu6rjvrysn5gjbsqj3hk3bvsg64...  \n",
      "2    Lockbit 3.0  http://lockbit7z6f3gu6rjvrysn5gjbsqj3hk3bvsg64...  \n",
      "3    Lockbit 3.0  http://lockbit7z6f3gu6rjvrysn5gjbsqj3hk3bvsg64...  \n",
      "4    Lockbit 3.0  http://lockbit7z6f3gu6rjvrysn5gjbsqj3hk3bvsg64...  \n",
      "..           ...                                                ...  \n",
      "704  Lockbit 3.0  http://lockbit7z6f3gu6rjvrysn5gjbsqj3hk3bvsg64...  \n",
      "705  Lockbit 3.0  http://lockbit7z6f3gu6rjvrysn5gjbsqj3hk3bvsg64...  \n",
      "706  Lockbit 3.0  http://lockbit7z6f3gu6rjvrysn5gjbsqj3hk3bvsg64...  \n",
      "707  Lockbit 3.0  http://lockbit7z6f3gu6rjvrysn5gjbsqj3hk3bvsg64...  \n",
      "708  Lockbit 3.0  http://lockbit7z6f3gu6rjvrysn5gjbsqj3hk3bvsg64...  \n",
      "\n",
      "[709 rows x 4 columns]\n"
     ]
    }
   ],
   "source": [
    "from selenium import webdriver\n",
    "import pandas as pd\n",
    "import time\n",
    "\n",
    "# set up TOR and the TOR browser\n",
    "tor_proxy = \"socks5://127.0.0.1:9150\"\n",
    "profile = webdriver.FirefoxProfile()\n",
    "profile.set_preference('network.proxy.type', 1)\n",
    "profile.set_preference('network.proxy.socks', '127.0.0.1')\n",
    "profile.set_preference('network.proxy.socks_port', 9150)\n",
    "profile.set_preference('network.proxy.socks_remote_dns', True)\n",
    "profile.update_preferences()\n",
    "driver = webdriver.Firefox(firefox_profile=profile, executable_path='/path/to/geckodriver')\n",
    "\n",
    "# navigate to the website\n",
    "site = ' http://lockbit7z6f3gu6rjvrysn5gjbsqj3hk3bvsg64ns6pjldqr2xhvhsyd.onion/'\n",
    "driver.get(site)\n",
    "time.sleep(10)\n",
    "\n",
    "company_names = []\n",
    "Data = []\n",
    "\n",
    "name_elements = driver.find_elements(\"xpath\", '//td[@class=\"link\"]/a/span')\n",
    "for element in name_elements:\n",
    "    company_names.append(element.get_attribute(\"innerText\") if element.get_attribute(\"innerText\") else 'n/a')\n",
    "\n",
    "Data_elements = driver.find_elements(\"xpath\", '//td[@class=\"link\"]/a')\n",
    "for element in Data_elements:\n",
    "    Data.append(element.get_attribute(\"href\") if element.get_attribute(\"href\") else 'n/a')\n",
    "    \n",
    "# create a dataframe with the extracted data\n",
    "df = pd.DataFrame({\n",
    "    'Company Names': company_names,\n",
    "    'Download Data': Data,\n",
    "    'DLS website': ['Lockbit 3.0'] * len(company_names),\n",
    "    'DLS link': ['http://lockbit7z6f3gu6rjvrysn5gjbsqj3hk3bvsg64ns6pjldqr2xhvhsyd.onion/'] * len(company_names)\n",
    "})\n",
    "\n",
    "print(df)\n",
    "#driver.quit()\n"
   ]
  },
  {
   "cell_type": "code",
   "execution_count": null,
   "id": "b17fad66",
   "metadata": {},
   "outputs": [],
   "source": []
  }
 ],
 "metadata": {
  "kernelspec": {
   "display_name": "Python 3 (ipykernel)",
   "language": "python",
   "name": "python3"
  },
  "language_info": {
   "codemirror_mode": {
    "name": "ipython",
    "version": 3
   },
   "file_extension": ".py",
   "mimetype": "text/x-python",
   "name": "python",
   "nbconvert_exporter": "python",
   "pygments_lexer": "ipython3",
   "version": "3.9.13"
  }
 },
 "nbformat": 4,
 "nbformat_minor": 5
}
