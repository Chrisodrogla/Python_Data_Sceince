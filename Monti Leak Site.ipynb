{
 "cells": [
  {
   "cell_type": "code",
   "execution_count": null,
   "id": "571bdf42",
   "metadata": {},
   "outputs": [],
   "source": [
    "from selenium import webdriver\n",
    "import pandas as pd\n",
    "import time\n",
    "\n",
    "# set up TOR and the TOR browser\n",
    "tor_proxy = \"socks5://127.0.0.1:9150\"\n",
    "profile = webdriver.FirefoxProfile()\n",
    "profile.set_preference('network.proxy.type', 1)\n",
    "profile.set_preference('network.proxy.socks', '127.0.0.1')\n",
    "profile.set_preference('network.proxy.socks_port', 9150)\n",
    "profile.set_preference('network.proxy.socks_remote_dns', True)\n",
    "profile.update_preferences()\n",
    "driver = webdriver.Firefox(firefox_profile=profile, executable_path='/path/to/geckodriver')\n",
    "\n",
    "# navigate to the website\n",
    "site = 'http://mblogci3rudehaagbryjznltdp33ojwzkq6hn2pckvjq33rycmzczpid.onion/'\n",
    "driver.get(site)\n",
    "time.sleep(2)\n",
    "\n",
    "company_names = []\n",
    "Data = []\n",
    "\n",
    "name_elements = driver.find_elements(\"xpath\", '//div[@class=\"col-lg-4 col-sm-6 mb-4\"]/a/div/div/h5')\n",
    "for element in name_elements:\n",
    "    company_names.append(element.get_attribute(\"innerText\") if element.get_attribute(\"innerText\") else 'n/a')\n",
    "\n",
    "Data_elements = driver.find_elements(\"xpath\", '//div[@class=\"col-lg-4 col-sm-6 mb-4\"]/a')\n",
    "for element in Data_elements:\n",
    "    Data.append(element.get_attribute(\"href\") if element.get_attribute(\"href\") else 'n/a')\n",
    "    \n",
    "# create a dataframe with the extracted data\n",
    "df = pd.DataFrame({\n",
    "    'Company Names': company_names,\n",
    "    'Download Data': Data,\n",
    "    'DLS website': ['Monti Leak'] * len(company_names),\n",
    "    'DLS link': ['http://mblogci3rudehaagbryjznltdp33ojwzkq6hn2pckvjq33rycmzczpid.onion/'] * len(company_names)\n",
    "})\n",
    "\n",
    "print(df)\n",
    "#driver.quit()\n"
   ]
  }
 ],
 "metadata": {
  "kernelspec": {
   "display_name": "Python 3 (ipykernel)",
   "language": "python",
   "name": "python3"
  },
  "language_info": {
   "codemirror_mode": {
    "name": "ipython",
    "version": 3
   },
   "file_extension": ".py",
   "mimetype": "text/x-python",
   "name": "python",
   "nbconvert_exporter": "python",
   "pygments_lexer": "ipython3",
   "version": "3.9.13"
  }
 },
 "nbformat": 4,
 "nbformat_minor": 5
}
