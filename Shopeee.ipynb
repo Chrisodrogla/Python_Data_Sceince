{
 "cells": [
  {
   "cell_type": "code",
   "execution_count": 3,
   "id": "33a7185b",
   "metadata": {},
   "outputs": [],
   "source": [
    "import time\n",
    "from selenium import webdriver\n",
    "from bs4 import BeautifulSoup\n",
    "import pandas as pd\n",
    "from selenium.webdriver.support.ui import WebDriverWait\n",
    "from selenium.webdriver.support import expected_conditions as EC\n",
    "from selenium.webdriver.common.by import By\n"
   ]
  },
  {
   "cell_type": "code",
   "execution_count": 5,
   "id": "c1741af2",
   "metadata": {},
   "outputs": [
    {
     "name": "stdout",
     "output_type": "stream",
     "text": [
      "                                         Product Name\n",
      "0   Open Half face Helmet Motorcycle Helmet off ro...\n",
      "1   General purpose motorcycle half face helmet fo...\n",
      "2   Camouflage Helmet Cloth for Tactical Helmet Ca...\n",
      "3   Motorcycle Helmet Electric Bike Bicycle Helmet...\n",
      "4   HNJ 937 Plain Men's Full Face Motorcycle Helme...\n",
      "..                                                ...\n",
      "91  SPYDER Force v2 Modular Helmet + FREE Extra Cl...\n",
      "92  SPY Full-Face Dual Visor Helmet FURY GD NEO Se...\n",
      "93  Gille 135 GTS Series V1 Solid Full Face Dual V...\n",
      "94  HNJ and RXR 715 Motorcycle Cartoon Character H...\n",
      "95     Rxr Half Face Open Face Helmet With Dual Visor\n",
      "\n",
      "[96 rows x 1 columns]\n"
     ]
    }
   ],
   "source": [
    "class Scrapprrlazada():\n",
    "    #pass\n",
    "    website = 'https://shopee.ph/search?keyword=helmet'\n",
    "    driver = webdriver.Chrome()\n",
    "    driver.get(website)\n",
    "    \n",
    "    product = []    \n",
    "    for i in range(4):\n",
    "        WebDriverWait(driver, 5).until(EC.presence_of_element_located((By.CSS_SELECTOR, \"#main\")))\n",
    "        time.sleep(2)\n",
    "    \n",
    "    \n",
    "        soup = BeautifulSoup(driver.page_source,\"html.parser\")\n",
    "\n",
    "        for item in soup.findAll('div',class_ = 'tWpFe2'):\n",
    "            product_name = item.find('div',class_='ie3A+n bM+7UW Cve6sh').text\n",
    "            #price = float(item.find('span',class_='ooOxS').text.replace('₱','').replace(',',''))\n",
    "            product.append((product_name))\n",
    "        \n",
    "    ##print(product)\n",
    "    ##driver.close()\n",
    "    \n",
    "        time.sleep(2)\n",
    "        driver.find_element(By.CSS_SELECTOR, \"button.shopee-icon-button.shopee-icon-button--right\").click()\n",
    "        time.sleep(3)\n",
    "    \n",
    "    df = pd.DataFrame(product, columns=['Product Name'])\n",
    "    \n",
    "    print(df)\n",
    "    \n",
    "    df.to_excel('12321laxada selenium bs4.xlsx',index=False)"
   ]
  },
  {
   "cell_type": "code",
   "execution_count": null,
   "id": "8b28640b",
   "metadata": {},
   "outputs": [],
   "source": []
  }
 ],
 "metadata": {
  "kernelspec": {
   "display_name": "Python 3 (ipykernel)",
   "language": "python",
   "name": "python3"
  },
  "language_info": {
   "codemirror_mode": {
    "name": "ipython",
    "version": 3
   },
   "file_extension": ".py",
   "mimetype": "text/x-python",
   "name": "python",
   "nbconvert_exporter": "python",
   "pygments_lexer": "ipython3",
   "version": "3.9.13"
  }
 },
 "nbformat": 4,
 "nbformat_minor": 5
}
