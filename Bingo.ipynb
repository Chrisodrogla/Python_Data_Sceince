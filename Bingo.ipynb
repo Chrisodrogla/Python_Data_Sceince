{
 "cells": [
  {
   "cell_type": "code",
   "execution_count": 2,
   "id": "93016355",
   "metadata": {},
   "outputs": [],
   "source": [
    "import time\n",
    "from selenium import webdriver\n",
    "from bs4 import BeautifulSoup\n",
    "import pandas as pd\n",
    "from selenium.webdriver.support.ui import WebDriverWait\n",
    "from selenium.webdriver.support import expected_conditions as EC\n",
    "from selenium.webdriver.common.by import By\n"
   ]
  },
  {
   "cell_type": "code",
   "execution_count": 4,
   "id": "652e412f",
   "metadata": {},
   "outputs": [
    {
     "name": "stdout",
     "output_type": "stream",
     "text": [
      "                                          Product Name   Price\n",
      "0             Men Solid Knot Front Blazer & Suit Pants  ₱1,847\n",
      "1    Men Single Breasted Slit Back Blazer & Tailore...  ₱1,753\n",
      "2    Men Plaid Print Slant Pocket Fold Pleated Tail...    ₱854\n",
      "3    Men Gold Floral Print Contrast Shawl Collar Bl...  ₱2,081\n",
      "4                Men Solid Slant Pocket Tailored Pants    ₱646\n",
      "..                                                 ...     ...\n",
      "364  CLOUDSTYLE Men Single Breasted Blazer & Pants ...  ₱2,581\n",
      "365       Men Single Breasted Blazer & Pants With Vest  ₱3,230\n",
      "366  CLOUDSTYLE Men Plaid Print Straight Leg Suit P...    ₱613\n",
      "367        Men Button Front Blazer & Vest & Suit Pants  ₱3,230\n",
      "368  CLOUDSTYLE Men Plaid Print Slant Pocket Suit P...    ₱649\n",
      "\n",
      "[369 rows x 2 columns]\n"
     ]
    }
   ],
   "source": [
    "products = []    \n",
    "for i in range(1,5):\n",
    "    website = f\"https://ph.shein.com/pdsearch/man%20suit/?ici=s1%60EditSearch%60man%20suit%60_fb%60d0%60PageSearchResult&src_identifier=st%3D2%60sc%3Dman%20suit%60sr%3D0%60ps%3D1&src_module=search&src_tab_page_id=page_search1677580675884&page={i}\"\n",
    "    driver = webdriver.Chrome()\n",
    "    driver.get(website)        \n",
    "    WebDriverWait(driver, 5).until(EC.presence_of_element_located((By.CSS_SELECTOR, \"#product-list-v2\")))\n",
    "    time.sleep(5)\n",
    "    \n",
    "    \n",
    "    soup = BeautifulSoup(driver.page_source,\"html.parser\")\n",
    "\n",
    "    for item in soup.findAll('section',class_ = 'S-product-item j-expose__product-item product-list__item'):\n",
    "        pproduct_name = item.find('div',class_='S-product-item__name').a.text\n",
    "        pprice = item.find('div',class_='S-product-item__price').span.text\n",
    "        products.append(((pproduct_name,pprice)))\n",
    "            #products.append((pprice))\n",
    "        \n",
    "    ##print(product)\n",
    "    ##driver.close()\n",
    "    \n",
    "        #time.sleep(2)\n",
    "        #driver.find_element(By.CSS_SELECTOR, \".sui-pagination__right > span\").click()\n",
    "        #time.sleep(2)\n",
    "\n",
    "df = pd.DataFrame(products, columns=['Product Name','Price']) \n",
    "df.to_excel('DoneShein.xlsx', index= False)\n",
    "print(df)\n",
    "\n"
   ]
  },
  {
   "cell_type": "code",
   "execution_count": null,
   "id": "4b75e178",
   "metadata": {},
   "outputs": [],
   "source": []
  }
 ],
 "metadata": {
  "kernelspec": {
   "display_name": "Python 3 (ipykernel)",
   "language": "python",
   "name": "python3"
  },
  "language_info": {
   "codemirror_mode": {
    "name": "ipython",
    "version": 3
   },
   "file_extension": ".py",
   "mimetype": "text/x-python",
   "name": "python",
   "nbconvert_exporter": "python",
   "pygments_lexer": "ipython3",
   "version": "3.9.13"
  }
 },
 "nbformat": 4,
 "nbformat_minor": 5
}
