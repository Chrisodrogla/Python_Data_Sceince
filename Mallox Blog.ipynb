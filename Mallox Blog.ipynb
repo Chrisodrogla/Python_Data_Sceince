{
 "cells": [
  {
   "cell_type": "code",
   "execution_count": 1,
   "id": "3d296950",
   "metadata": {},
   "outputs": [
    {
     "name": "stderr",
     "output_type": "stream",
     "text": [
      "C:\\Users\\calgo\\AppData\\Local\\Temp\\ipykernel_30820\\545412448.py:7: DeprecationWarning: firefox_profile has been deprecated, please use an Options object\n",
      "  profile = webdriver.FirefoxProfile()\n",
      "C:\\Users\\calgo\\AppData\\Local\\Temp\\ipykernel_30820\\545412448.py:13: DeprecationWarning: executable_path has been deprecated, please pass in a Service object\n",
      "  driver = webdriver.Firefox(firefox_profile=profile, executable_path='/path/to/geckodriver')\n",
      "C:\\Users\\calgo\\AppData\\Local\\Temp\\ipykernel_30820\\545412448.py:13: DeprecationWarning: firefox_profile has been deprecated, please pass in an Options object\n",
      "  driver = webdriver.Firefox(firefox_profile=profile, executable_path='/path/to/geckodriver')\n"
     ]
    },
    {
     "ename": "NameError",
     "evalue": "name 'company_names' is not defined",
     "output_type": "error",
     "traceback": [
      "\u001b[1;31m---------------------------------------------------------------------------\u001b[0m",
      "\u001b[1;31mNameError\u001b[0m                                 Traceback (most recent call last)",
      "\u001b[1;32m~\\AppData\\Local\\Temp\\ipykernel_30820\\545412448.py\u001b[0m in \u001b[0;36m<module>\u001b[1;34m\u001b[0m\n\u001b[0;32m     19\u001b[0m \u001b[0mname_elements\u001b[0m \u001b[1;33m=\u001b[0m \u001b[0mdriver\u001b[0m\u001b[1;33m.\u001b[0m\u001b[0mfind_elements\u001b[0m\u001b[1;33m(\u001b[0m\u001b[1;34m\"xpath\"\u001b[0m\u001b[1;33m,\u001b[0m \u001b[1;34m'//div[@class=\"card-body\"]/h5'\u001b[0m\u001b[1;33m)\u001b[0m\u001b[1;33m\u001b[0m\u001b[1;33m\u001b[0m\u001b[0m\n\u001b[0;32m     20\u001b[0m \u001b[1;32mfor\u001b[0m \u001b[0melement\u001b[0m \u001b[1;32min\u001b[0m \u001b[0mname_elements\u001b[0m\u001b[1;33m:\u001b[0m\u001b[1;33m\u001b[0m\u001b[1;33m\u001b[0m\u001b[0m\n\u001b[1;32m---> 21\u001b[1;33m     \u001b[0mcompany_names\u001b[0m\u001b[1;33m.\u001b[0m\u001b[0mappend\u001b[0m\u001b[1;33m(\u001b[0m\u001b[0melement\u001b[0m\u001b[1;33m.\u001b[0m\u001b[0mget_attribute\u001b[0m\u001b[1;33m(\u001b[0m\u001b[1;34m\"innerText\"\u001b[0m\u001b[1;33m)\u001b[0m \u001b[1;32mif\u001b[0m \u001b[0melement\u001b[0m\u001b[1;33m.\u001b[0m\u001b[0mget_attribute\u001b[0m\u001b[1;33m(\u001b[0m\u001b[1;34m\"innerText\"\u001b[0m\u001b[1;33m)\u001b[0m \u001b[1;32melse\u001b[0m \u001b[1;34m'n/a'\u001b[0m\u001b[1;33m)\u001b[0m\u001b[1;33m\u001b[0m\u001b[1;33m\u001b[0m\u001b[0m\n\u001b[0m\u001b[0;32m     22\u001b[0m \u001b[1;33m\u001b[0m\u001b[0m\n\u001b[0;32m     23\u001b[0m \u001b[0mData_elements\u001b[0m \u001b[1;33m=\u001b[0m \u001b[0mdriver\u001b[0m\u001b[1;33m.\u001b[0m\u001b[0mfind_elements\u001b[0m\u001b[1;33m(\u001b[0m\u001b[1;34m\"xpath\"\u001b[0m\u001b[1;33m,\u001b[0m \u001b[1;34m'//a[@class=\"btn btn-primary btn-sm\"]'\u001b[0m\u001b[1;33m)\u001b[0m\u001b[1;33m\u001b[0m\u001b[1;33m\u001b[0m\u001b[0m\n",
      "\u001b[1;31mNameError\u001b[0m: name 'company_names' is not defined"
     ]
    }
   ],
   "source": [
    "from selenium import webdriver\n",
    "import pandas as pd\n",
    "import time\n",
    "\n",
    "# set up TOR and the TOR browser\n",
    "tor_proxy = \"socks5://127.0.0.1:9150\"\n",
    "profile = webdriver.FirefoxProfile()\n",
    "profile.set_preference('network.proxy.type', 1)\n",
    "profile.set_preference('network.proxy.socks', '127.0.0.1')\n",
    "profile.set_preference('network.proxy.socks_port', 9150)\n",
    "profile.set_preference('network.proxy.socks_remote_dns', True)\n",
    "profile.update_preferences()\n",
    "driver = webdriver.Firefox(firefox_profile=profile, executable_path='/path/to/geckodriver')\n",
    "\n",
    "# navigate to the website\n",
    "site = ' http://wtyafjyhwqrgo4a45wdvvwhen3cx4euie73qvlhkhvlrexljoyuklaad.onion'\n",
    "driver.get(site)\n",
    "\n",
    "name_elements = driver.find_elements(\"xpath\", '//div[@class=\"card-body\"]/h5')\n",
    "for element in name_elements:\n",
    "    company_names.append(element.get_attribute(\"innerText\") if element.get_attribute(\"innerText\") else 'n/a')\n",
    "\n",
    "Data_elements = driver.find_elements(\"xpath\", '//a[@class=\"btn btn-primary btn-sm\"]')\n",
    "for element in Data_elements:\n",
    "    Data.append(element.get_attribute(\"href\") if element.get_attribute(\"href\") else 'n/a') \n",
    "\n",
    "\n",
    "\n",
    "\n",
    "df = pd.DataFrame({\n",
    "    'Company Names': company_names,\n",
    "    'Download Data': Data,\n",
    "    'DLS website': ['Mallox Blog'] * len(company_names),\n",
    "    'DLS link': [' http://wtyafjyhwqrgo4a45wdvvwhen3cx4euie73qvlhkhvlrexljoyuklaad.onion'] * len(company_names)\n",
    "})\n",
    "\n",
    "print(df)\n",
    "\n",
    "driver.quit()"
   ]
  },
  {
   "cell_type": "code",
   "execution_count": null,
   "id": "f7eb027a",
   "metadata": {},
   "outputs": [],
   "source": []
  }
 ],
 "metadata": {
  "kernelspec": {
   "display_name": "Python 3 (ipykernel)",
   "language": "python",
   "name": "python3"
  },
  "language_info": {
   "codemirror_mode": {
    "name": "ipython",
    "version": 3
   },
   "file_extension": ".py",
   "mimetype": "text/x-python",
   "name": "python",
   "nbconvert_exporter": "python",
   "pygments_lexer": "ipython3",
   "version": "3.9.13"
  }
 },
 "nbformat": 4,
 "nbformat_minor": 5
}
