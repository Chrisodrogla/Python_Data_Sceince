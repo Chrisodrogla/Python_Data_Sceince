{
 "cells": [
  {
   "cell_type": "code",
   "execution_count": 1,
   "id": "40bb9bbb",
   "metadata": {},
   "outputs": [
    {
     "name": "stderr",
     "output_type": "stream",
     "text": [
      "C:\\Users\\calgo\\AppData\\Local\\Temp\\ipykernel_20608\\1761641270.py:7: DeprecationWarning: firefox_profile has been deprecated, please use an Options object\n",
      "  profile = webdriver.FirefoxProfile()\n",
      "C:\\Users\\calgo\\AppData\\Local\\Temp\\ipykernel_20608\\1761641270.py:13: DeprecationWarning: executable_path has been deprecated, please pass in a Service object\n",
      "  driver = webdriver.Firefox(firefox_profile=profile, executable_path='/path/to/geckodriver')\n",
      "C:\\Users\\calgo\\AppData\\Local\\Temp\\ipykernel_20608\\1761641270.py:13: DeprecationWarning: firefox_profile has been deprecated, please pass in an Options object\n",
      "  driver = webdriver.Firefox(firefox_profile=profile, executable_path='/path/to/geckodriver')\n"
     ]
    },
    {
     "name": "stdout",
     "output_type": "stream",
     "text": [
      "                       Company Names  \\\n",
      "0           **** I******** *********   \n",
      "1       Undisclosed Staffing Company   \n",
      "2             Kondratoff Persick LLP   \n",
      "3                      Piramal Group   \n",
      "4           N** ********* **********   \n",
      "5                Misr Life Insurance   \n",
      "6  Arab Shipbuilding and Repair Yard   \n",
      "7              American Crane Rental   \n",
      "8                         **** H****   \n",
      "9     T***** ***** *********t** *.*.   \n",
      "\n",
      "                                       Download Data  \n",
      "0  http://bianlianlbc5an4kgnay3opdemgcryg2kpfcbgc...  \n",
      "1  http://bianlianlbc5an4kgnay3opdemgcryg2kpfcbgc...  \n",
      "2  http://bianlianlbc5an4kgnay3opdemgcryg2kpfcbgc...  \n",
      "3  http://bianlianlbc5an4kgnay3opdemgcryg2kpfcbgc...  \n",
      "4  http://bianlianlbc5an4kgnay3opdemgcryg2kpfcbgc...  \n",
      "5  http://bianlianlbc5an4kgnay3opdemgcryg2kpfcbgc...  \n",
      "6  http://bianlianlbc5an4kgnay3opdemgcryg2kpfcbgc...  \n",
      "7  http://bianlianlbc5an4kgnay3opdemgcryg2kpfcbgc...  \n",
      "8  http://bianlianlbc5an4kgnay3opdemgcryg2kpfcbgc...  \n",
      "9  http://bianlianlbc5an4kgnay3opdemgcryg2kpfcbgc...  \n"
     ]
    }
   ],
   "source": [
    "from selenium import webdriver\n",
    "import pandas as pd\n",
    "import time\n",
    "\n",
    "# set up TOR and the TOR browser\n",
    "tor_proxy = \"socks5://127.0.0.1:9150\"\n",
    "profile = webdriver.FirefoxProfile()\n",
    "profile.set_preference('network.proxy.type', 1)\n",
    "profile.set_preference('network.proxy.socks', '127.0.0.1')\n",
    "profile.set_preference('network.proxy.socks_port', 9150)\n",
    "profile.set_preference('network.proxy.socks_remote_dns', True)\n",
    "profile.update_preferences()\n",
    "driver = webdriver.Firefox(firefox_profile=profile, executable_path='/path/to/geckodriver')\n",
    "\n",
    "# navigate to the website\n",
    "site = ' http://bianlianlbc5an4kgnay3opdemgcryg2kpfcbgczopmm3dnbz3uaunad.onion'\n",
    "driver.get(site)\n",
    "time.sleep(5)\n",
    "\n",
    "company_names = []\n",
    "Data = []\n",
    "\n",
    "name_elements = driver.find_elements(\"xpath\", '//section[@class=\"list-item\"]/h1')\n",
    "for element in name_elements:\n",
    "    company_names.append(element.get_attribute(\"innerText\") if element.get_attribute(\"innerText\") else 'n/a')\n",
    "\n",
    "Data_elements = driver.find_elements(\"xpath\", '//section[@class=\"list-item\"]/a')\n",
    "for element in Data_elements:\n",
    "    Data.append(element.get_attribute(\"href\") if element.get_attribute(\"href\") else 'n/a')\n",
    "    \n",
    "# create a dataframe with the extracted data\n",
    "df = pd.DataFrame({\n",
    "    'Company Names': company_names,\n",
    "    'Download Data': Data\n",
    "})\n",
    "\n",
    "print(df)\n",
    "driver.quit()\n"
   ]
  },
  {
   "cell_type": "code",
   "execution_count": null,
   "id": "58f344c5",
   "metadata": {},
   "outputs": [],
   "source": []
  }
 ],
 "metadata": {
  "kernelspec": {
   "display_name": "Python 3 (ipykernel)",
   "language": "python",
   "name": "python3"
  },
  "language_info": {
   "codemirror_mode": {
    "name": "ipython",
    "version": 3
   },
   "file_extension": ".py",
   "mimetype": "text/x-python",
   "name": "python",
   "nbconvert_exporter": "python",
   "pygments_lexer": "ipython3",
   "version": "3.9.13"
  }
 },
 "nbformat": 4,
 "nbformat_minor": 5
}
