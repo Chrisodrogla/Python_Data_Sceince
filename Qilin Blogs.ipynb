{
 "cells": [
  {
   "cell_type": "code",
   "execution_count": 2,
   "id": "ca430831",
   "metadata": {},
   "outputs": [
    {
     "name": "stderr",
     "output_type": "stream",
     "text": [
      "C:\\Users\\calgo\\AppData\\Local\\Temp\\ipykernel_27704\\2201110549.py:8: DeprecationWarning: firefox_profile has been deprecated, please use an Options object\n",
      "  profile = webdriver.FirefoxProfile()\n",
      "C:\\Users\\calgo\\AppData\\Local\\Temp\\ipykernel_27704\\2201110549.py:14: DeprecationWarning: executable_path has been deprecated, please pass in a Service object\n",
      "  driver = webdriver.Firefox(firefox_profile=profile, executable_path='/path/to/geckodriver')\n",
      "C:\\Users\\calgo\\AppData\\Local\\Temp\\ipykernel_27704\\2201110549.py:14: DeprecationWarning: firefox_profile has been deprecated, please pass in an Options object\n",
      "  driver = webdriver.Firefox(firefox_profile=profile, executable_path='/path/to/geckodriver')\n",
      "0it [00:00, ?it/s]\n"
     ]
    },
    {
     "data": {
      "text/html": [
       "<div>\n",
       "<style scoped>\n",
       "    .dataframe tbody tr th:only-of-type {\n",
       "        vertical-align: middle;\n",
       "    }\n",
       "\n",
       "    .dataframe tbody tr th {\n",
       "        vertical-align: top;\n",
       "    }\n",
       "\n",
       "    .dataframe thead th {\n",
       "        text-align: right;\n",
       "    }\n",
       "</style>\n",
       "<table border=\"1\" class=\"dataframe\">\n",
       "  <thead>\n",
       "    <tr style=\"text-align: right;\">\n",
       "      <th></th>\n",
       "    </tr>\n",
       "  </thead>\n",
       "  <tbody>\n",
       "  </tbody>\n",
       "</table>\n",
       "</div>"
      ],
      "text/plain": [
       "Empty DataFrame\n",
       "Columns: []\n",
       "Index: []"
      ]
     },
     "execution_count": 2,
     "metadata": {},
     "output_type": "execute_result"
    }
   ],
   "source": [
    "from tqdm import tqdm\n",
    "from selenium import webdriver\n",
    "import pandas as pd\n",
    "import time\n",
    "\n",
    "# set up TOR and the TOR browser\n",
    "tor_proxy = \"socks5://127.0.0.1:9150\"\n",
    "profile = webdriver.FirefoxProfile()\n",
    "profile.set_preference('network.proxy.type', 1)\n",
    "profile.set_preference('network.proxy.socks', '127.0.0.1')\n",
    "profile.set_preference('network.proxy.socks_port', 9150)\n",
    "profile.set_preference('network.proxy.socks_remote_dns', True)\n",
    "profile.update_preferences()\n",
    "driver = webdriver.Firefox(firefox_profile=profile, executable_path='/path/to/geckodriver')\n",
    "\n",
    "# navigate to the website\n",
    "driver.get('http://kbsqoivihgdmwczmxkbovk7ss2dcynitwhhfu5yw725dboqo5kthfaad.onion/')\n",
    "\n",
    "Dls_Links = driver.find_elements(\"xpath\", '//div[@class=\"col-md-10 mb-2\"]/a') # Links to visits .href\n",
    "\n",
    "Listoflink=[]\n",
    "for Dls_Link in Dls_Links:\n",
    "    Listoflink.append(Dls_Link.get_attribute('href'))\n",
    "    \n",
    "alldetails = []\n",
    "for i in tqdm(range(len(Listoflink))):\n",
    "    driver.get(Listoflink[i])\n",
    "    \n",
    "    DLS_Website = 'Qilin Blog'\n",
    "    DLS_Onion_Link = 'http://kbsqoivihgdmwczmxkbovk7ss2dcynitwhhfu5yw725dboqo5kthfaad.onion/' \n",
    "    \n",
    "    Company = driver.find_elements(\"xpath\", '//div[@class=\"page_title\"]')[0].text\n",
    "    \n",
    "    #elements = driver.find_elements(\"xpath\", '//div[@id=\"_tl_view\"]/p')[0:5]\n",
    "    #text_list = [elem.text for elem in elements]\n",
    "    Company_Description = driver.find_elements(\"xpath\", '/html/body/div[2]/div[1]/div/div[2]/div/div[2]')[0].text\n",
    "    Company_Website = driver.find_elements(\"xpath\", '/html/body/div[2]/div[1]/div/div[2]/div/div[2]/div[1]/div[1]/a')\n",
    "    Company_Website = Company_Website[0].get_attribute('href') if Company_Website else 'n/a'\n",
    "    \n",
    "    date_of_data = driver.find_elements(\"xpath\", '/html/body/div[2]/div[1]/div/div[2]/div/div[2]/div[1]/div[2]')[0].text\n",
    "    \n",
    "    Size_of_Data = driver.find_elements(\"xpath\", '/html/body/div[2]/div[1]/div/div[4]/div[2]/div/a/span[3]')\n",
    "    Size_of_Data = Size_of_Data[0].text if Size_of_Data else 'n/a'\n",
    "    \n",
    "    Download_Leak_Data = driver.find_elements(\"xpath\", '//div[@class=\"col-6 col-sm-3 mb-3 \"]/a')\n",
    "    if Download_Leak_Data:\n",
    "        Download_Leak_Data = Download_Leak_Data[0].get_attribute('href')\n",
    "    elif driver.find_elements(\"xpath\", '/html/body/div[2]/div[1]/div/div[4]/div[2]/div/a'):\n",
    "        Download_Leak_Data = driver.find_elements(\"xpath\", '/html/body/div[2]/div[1]/div/div[4]/div[2]/div')[0].get_attribute('href')\n",
    "   # elif driver.find_elements(\"xpath\", '/html/body/div[3]/div/div[1]/div/h3/a'):\n",
    "       # Download_Leak_Data = driver.find_elements(\"xpath\", '/html/body/div[3]/div/div[1]/div/h3/a')[0].get_attribute('href')\n",
    "    #elif driver.find_elements(\"xpath\", '/html/body/div[3]/div/div[1]/div/figure[2]'):\n",
    "        #Download_Leak_Data = driver.find_elements(\"xpath\", '/html/body/div[3]/div/div[1]/div/figure[2]')[0].get_attribute('href')         \n",
    "    else:\n",
    "        Download_Leak_Data = 'n/a'\n",
    "\n",
    "    \n",
    "    tempj={'Company Names':Company,\n",
    "           'Company Description':Company_Description,\n",
    "           'Date of Publish':date_of_data,\n",
    "            'Company Website':Company_Website,\n",
    "          'Size of Data':Size_of_Data,\n",
    "          'Download Data':Download_Leak_Data,\n",
    "        'Full_Info':Listoflink[i],\n",
    "        'DLS Website':DLS_Website,\n",
    "           'DLS Onion Link':DLS_Onion_Link\n",
    "           }\n",
    "    \n",
    "    alldetails.append(tempj)\n",
    "    \n",
    "df=pd.DataFrame(alldetails)\n",
    "df"
   ]
  },
  {
   "cell_type": "code",
   "execution_count": null,
   "id": "ca80a394",
   "metadata": {},
   "outputs": [],
   "source": []
  }
 ],
 "metadata": {
  "kernelspec": {
   "display_name": "Python 3 (ipykernel)",
   "language": "python",
   "name": "python3"
  },
  "language_info": {
   "codemirror_mode": {
    "name": "ipython",
    "version": 3
   },
   "file_extension": ".py",
   "mimetype": "text/x-python",
   "name": "python",
   "nbconvert_exporter": "python",
   "pygments_lexer": "ipython3",
   "version": "3.9.13"
  }
 },
 "nbformat": 4,
 "nbformat_minor": 5
}
