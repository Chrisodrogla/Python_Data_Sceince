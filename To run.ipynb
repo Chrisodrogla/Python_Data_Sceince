{
 "cells": [
  {
   "cell_type": "code",
   "execution_count": 1,
   "id": "97f94ce6",
   "metadata": {},
   "outputs": [],
   "source": [
    "import socks\n",
    "import socket\n",
    "import requests\n",
    "from bs4 import BeautifulSoup\n",
    "import pandas as pd"
   ]
  },
  {
   "cell_type": "code",
   "execution_count": 2,
   "id": "2d046858",
   "metadata": {},
   "outputs": [],
   "source": [
    "from urllib.request import urlopen\n",
    "socks.set_default_proxy(socks.SOCKS5,\"localhost\", 9150)\n",
    "socket.socket = socks.socksocket"
   ]
  },
  {
   "cell_type": "code",
   "execution_count": 3,
   "id": "c045aafa",
   "metadata": {},
   "outputs": [],
   "source": [
    "def getaddrinfo(*args):\n",
    "    return [(socket.AF_INET,socket.SOCK_STREAM,6,'',(args[0], args[1]))]\n",
    "socket.getaddrinfo = getaddrinfo"
   ]
  },
  {
   "cell_type": "code",
   "execution_count": 4,
   "id": "4baf1148",
   "metadata": {},
   "outputs": [],
   "source": [
    "with open('dojo2.txt', 'r') as file:\n",
    "    links = [line.strip().split(',') for line in file]\n",
    "    \n",
    "# Flatten list of URLs\n",
    "links = [link.strip() for sublist in links for link in sublist]    \n",
    "    \n",
    "\n",
    "# Initialize empty lists to store website names and links\n",
    "website_names = []\n",
    "website_links = []\n",
    "\n",
    "# Loop through each link and extract website name and link\n",
    "for link in links:\n",
    "    try:\n",
    "        # Send a request to the link\n",
    "        response = requests.get(link)\n",
    "\n",
    "        # Parse the HTML content of the page\n",
    "        soup = BeautifulSoup(response.content, 'html.parser')\n",
    "\n",
    "        # Extract the website name and link\n",
    "        website_name = soup.title.string.strip() if soup.title else link\n",
    "        website_link = link\n",
    "    except:\n",
    "        # Set website name to 'Invalid' if link is unavailable or causes an error\n",
    "        website_name = 'Invalid'\n",
    "        website_link = link\n",
    "\n",
    "    # Append the website name and link to their respective lists\n",
    "    website_names.append(website_name)\n",
    "    website_links.append(website_link)\n",
    "\n",
    "# Create a pandas DataFrame with the website names and links\n",
    "df = pd.DataFrame({'Website Name': website_names, 'Link': website_links})\n"
   ]
  },
  {
   "cell_type": "code",
   "execution_count": 5,
   "id": "a3e4136a",
   "metadata": {},
   "outputs": [
    {
     "name": "stdout",
     "output_type": "stream",
     "text": [
      "                 Website Name  \\\n",
      "0                     Invalid   \n",
      "1                     Invalid   \n",
      "2                     Invalid   \n",
      "3                     Invalid   \n",
      "4                     Invalid   \n",
      "..                        ...   \n",
      "339                   Invalid   \n",
      "340                   Invalid   \n",
      "341  BITCARDS - Prepaid cards   \n",
      "342                   Invalid   \n",
      "343                   Invalid   \n",
      "\n",
      "                                                  Link  \n",
      "0                        http://marketojbwagqnwx.onion  \n",
      "1                        http://g5sbltooh2okkcb2.onion  \n",
      "2    http://fvki3hj7uxuirxpeop6chgqoczanmebutznt2mk...  \n",
      "3    http://jvdamsif53dqjycuozlaye2s47p7xij4x6hzwzw...  \n",
      "4    http://xqkz2rmrqkeqf6sjbrb47jfwnqxcd4o2zvaxxzr...  \n",
      "..                                                 ...  \n",
      "339                      http://3udp4kspxiirvxop.onion  \n",
      "340  http://vsociethok6sbprvevl4dlwbqrzyhxcxaqpvcqt...  \n",
      "341  http://nalr2uqsave7y2r235am5jsfiklfjh5h4jc5nzt...  \n",
      "342  http://xingnewj6m4qytljhfwemngm7r7rogrindbq7wr...  \n",
      "343  http://jukswsxbh3jsxuddvidrjdvwuohtsy4kxg2axbp...  \n",
      "\n",
      "[344 rows x 2 columns]\n"
     ]
    }
   ],
   "source": [
    "print(df)"
   ]
  },
  {
   "cell_type": "code",
   "execution_count": 7,
   "id": "216cadc1",
   "metadata": {},
   "outputs": [],
   "source": [
    "df.to_excel(\"DLS2-Titles.xlsx\", index=False)"
   ]
  },
  {
   "cell_type": "code",
   "execution_count": null,
   "id": "3ede5610",
   "metadata": {},
   "outputs": [],
   "source": []
  }
 ],
 "metadata": {
  "kernelspec": {
   "display_name": "Python 3 (ipykernel)",
   "language": "python",
   "name": "python3"
  },
  "language_info": {
   "codemirror_mode": {
    "name": "ipython",
    "version": 3
   },
   "file_extension": ".py",
   "mimetype": "text/x-python",
   "name": "python",
   "nbconvert_exporter": "python",
   "pygments_lexer": "ipython3",
   "version": "3.9.13"
  }
 },
 "nbformat": 4,
 "nbformat_minor": 5
}
