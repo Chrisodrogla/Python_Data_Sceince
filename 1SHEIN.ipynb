{
 "cells": [
  {
   "cell_type": "code",
   "execution_count": 48,
   "id": "93016355",
   "metadata": {},
   "outputs": [],
   "source": [
    "import time\n",
    "from selenium import webdriver\n",
    "from bs4 import BeautifulSoup\n",
    "import pandas as pd\n",
    "from selenium.webdriver.support.ui import WebDriverWait\n",
    "from selenium.webdriver.support import expected_conditions as EC\n",
    "from selenium.webdriver.common.by import By\n"
   ]
  },
  {
   "cell_type": "code",
   "execution_count": 50,
   "id": "3ce63188",
   "metadata": {},
   "outputs": [
    {
     "name": "stdout",
     "output_type": "stream",
     "text": [
      "                                          Product Name   Price\n",
      "0             Men Solid Knot Front Blazer & Suit Pants  ₱1,847\n",
      "1    Men Single Breasted Slit Back Blazer & Tailore...  ₱1,753\n",
      "2    Men Plaid Print Slant Pocket Fold Pleated Tail...    ₱854\n",
      "3    Men Gold Floral Print Contrast Shawl Collar Bl...  ₱2,081\n",
      "4                Men Solid Slant Pocket Tailored Pants    ₱646\n",
      "..                                                 ...     ...\n",
      "115                 Men Fold Pleated Carrot Suit Pants    ₱950\n",
      "116                 Men Solid Blazer Vest & Suit Pants  ₱1,775\n",
      "117            SHEIN Men Plaid Slant Pocket Suit Pants    ₱697\n",
      "118                  SHEIN Men Fold Pleated Suit Pants    ₱712\n",
      "119            Men Single Breasted Blazer & Suit Pants  ₱1,797\n",
      "\n",
      "[120 rows x 2 columns]\n"
     ]
    }
   ],
   "source": [
    "class Ssheiindds():\n",
    "    #pass\n",
    "    website = \"https://ph.shein.com/pdsearch/man%20suit/?ici=s1`EditSearch`man%20suit`_fb`d0`PageSearchResult&src_identifier=st%3D2%60sc%3Dman%20suit%60sr%3D0%60ps%3D1&src_module=search&src_tab_page_id=page_search1677580675884\"\n",
    "    driver = webdriver.Chrome()\n",
    "    driver.get(website)\n",
    "    \n",
    "    products = []    \n",
    "    for i in range(1):\n",
    "        WebDriverWait(driver, 5).until(EC.presence_of_element_located((By.CSS_SELECTOR, \"#product-list-v2\")))\n",
    "        time.sleep(1)\n",
    "    \n",
    "    \n",
    "        soup = BeautifulSoup(driver.page_source,\"html.parser\")\n",
    "\n",
    "        for item in soup.findAll('section',class_ = 'S-product-item j-expose__product-item product-list__item'):\n",
    "            pproduct_name = item.find('div',class_='S-product-item__name').a.text\n",
    "            pprice = item.find('div',class_='S-product-item__price').span.text\n",
    "            products.append(((pproduct_name,pprice)))\n",
    "            #products.append((pprice))\n",
    "        \n",
    "    ##print(product)\n",
    "    ##driver.close()\n",
    "    \n",
    "        #time.sleep(2)\n",
    "        #driver.find_element(By.CSS_SELECTOR, \".sui-pagination__next.sui-pagination__btn.sui-pagination__btn-disabled\").click()\n",
    "        #time.sleep(2)\n",
    "    \n",
    "    df = pd.DataFrame(products, columns=['Product Name','Price']) \n",
    "   # df = pd.DataFrame(products,columns={'Product Name':pproduct_name,'Price':pprice})\n",
    "    print(df)\n",
    "    \n",
    "\n"
   ]
  },
  {
   "cell_type": "code",
   "execution_count": null,
   "id": "ca234f34",
   "metadata": {},
   "outputs": [],
   "source": []
  }
 ],
 "metadata": {
  "kernelspec": {
   "display_name": "Python 3 (ipykernel)",
   "language": "python",
   "name": "python3"
  },
  "language_info": {
   "codemirror_mode": {
    "name": "ipython",
    "version": 3
   },
   "file_extension": ".py",
   "mimetype": "text/x-python",
   "name": "python",
   "nbconvert_exporter": "python",
   "pygments_lexer": "ipython3",
   "version": "3.9.13"
  }
 },
 "nbformat": 4,
 "nbformat_minor": 5
}
